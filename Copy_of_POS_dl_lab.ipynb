{
  "cells": [
    {
      "cell_type": "code",
      "execution_count": null,
      "metadata": {
        "id": "dATcPcpNfZL8"
      },
      "outputs": [],
      "source": [
        "import nltk\n",
        "from nltk import word_tokenize\n",
        "from nltk.corpus import brown as cb\n",
        "from nltk.corpus import treebank as tb\n",
        "import pprint\n",
        "from sklearn.tree import DecisionTreeClassifier\n",
        "from sklearn.feature_extraction import DictVectorizer\n",
        "from sklearn.pipeline import Pipeline"
      ]
    },
    {
      "cell_type": "code",
      "source": [
        "raw_text = nltk.Text(cb.words('ca01'))\n",
        "print (raw_text)"
      ],
      "metadata": {
        "id": "G_DSkKJ4gCNh"
      },
      "execution_count": null,
      "outputs": []
    },
    {
      "cell_type": "code",
      "execution_count": null,
      "metadata": {
        "id": "ABNnpjMcfZL-",
        "outputId": "c5b9e2de-e165-44f6-d598-9a146590bb90"
      },
      "outputs": [
        {
          "name": "stdout",
          "output_type": "stream",
          "text": [
            "['The', 'Fulton', 'County', 'Grand', 'Jury', 'said', 'Friday', 'an', 'investigation', 'of', \"Atlanta's\", 'recent', 'primary', 'election', 'produced', '``', 'no', 'evidence', \"''\", 'that']\n"
          ]
        }
      ],
      "source": [
        "print (cb.words()[0:20])"
      ]
    },
    {
      "cell_type": "code",
      "execution_count": null,
      "metadata": {
        "id": "9Jv50Fo9fZL_",
        "outputId": "b0de081f-d000-4066-a844-ae419b3c4d41"
      },
      "outputs": [
        {
          "name": "stdout",
          "output_type": "stream",
          "text": [
            "[('The', 'AT'), ('Fulton', 'NP-TL'), ('County', 'NN-TL'), ('Grand', 'JJ-TL'), ('Jury', 'NN-TL'), ('said', 'VBD'), ('Friday', 'NR'), ('an', 'AT'), ('investigation', 'NN'), ('of', 'IN')]\n"
          ]
        }
      ],
      "source": [
        "print (cb.tagged_words()[0:10])"
      ]
    },
    {
      "cell_type": "code",
      "execution_count": null,
      "metadata": {
        "id": "zBB4I7o1fZL_",
        "outputId": "2e3df9a2-ab68-43e5-f203-8ba7e1aa11c3"
      },
      "outputs": [
        {
          "name": "stdout",
          "output_type": "stream",
          "text": [
            "[('The', 'AT'),\n",
            " ('Fulton', 'NP-TL'),\n",
            " ('County', 'NN-TL'),\n",
            " ('Grand', 'JJ-TL'),\n",
            " ('Jury', 'NN-TL'),\n",
            " ('said', 'VBD'),\n",
            " ('Friday', 'NR'),\n",
            " ('an', 'AT'),\n",
            " ('investigation', 'NN'),\n",
            " ('of', 'IN'),\n",
            " (\"Atlanta's\", 'NP$'),\n",
            " ('recent', 'JJ'),\n",
            " ('primary', 'NN'),\n",
            " ('election', 'NN'),\n",
            " ('produced', 'VBD'),\n",
            " ('``', '``'),\n",
            " ('no', 'AT'),\n",
            " ('evidence', 'NN'),\n",
            " (\"''\", \"''\"),\n",
            " ('that', 'CS'),\n",
            " ('any', 'DTI'),\n",
            " ('irregularities', 'NNS'),\n",
            " ('took', 'VBD'),\n",
            " ('place', 'NN'),\n",
            " ('.', '.')]\n"
          ]
        }
      ],
      "source": [
        "tagged_sentences_brown_corpus = nltk.corpus.brown.tagged_sents()\n",
        "pprint.pprint(tagged_sentences_brown_corpus[0])\n"
      ]
    },
    {
      "cell_type": "code",
      "execution_count": null,
      "metadata": {
        "id": "D7fgmoW5fZMA",
        "outputId": "123de569-19cd-410b-97de-2125fc19df1f"
      },
      "outputs": [
        {
          "name": "stdout",
          "output_type": "stream",
          "text": [
            "<Text: Pierre Vinken , 61 years old , will...>\n"
          ]
        }
      ],
      "source": [
        "raw_text = nltk.Text(tb.words()[0:10])\n",
        "print (raw_text)"
      ]
    },
    {
      "cell_type": "code",
      "execution_count": null,
      "metadata": {
        "id": "4t-vXfl2fZMA",
        "outputId": "dd179e0f-52c5-44af-d193-be89afdb3468"
      },
      "outputs": [
        {
          "name": "stdout",
          "output_type": "stream",
          "text": [
            "['Pierre', 'Vinken', ',', '61', 'years', 'old', ',', 'will', 'join', 'the']\n"
          ]
        }
      ],
      "source": [
        "print (tb.words()[0:10])"
      ]
    },
    {
      "cell_type": "code",
      "execution_count": null,
      "metadata": {
        "id": "q8-djqDHfZMB",
        "outputId": "85d6fc17-416b-4c5d-9e9f-a983163a9096"
      },
      "outputs": [
        {
          "name": "stdout",
          "output_type": "stream",
          "text": [
            "[('Pierre', 'NNP'),\n",
            " ('Vinken', 'NNP'),\n",
            " (',', ','),\n",
            " ('61', 'CD'),\n",
            " ('years', 'NNS'),\n",
            " ('old', 'JJ'),\n",
            " (',', ','),\n",
            " ('will', 'MD'),\n",
            " ('join', 'VB'),\n",
            " ('the', 'DT'),\n",
            " ('board', 'NN'),\n",
            " ('as', 'IN'),\n",
            " ('a', 'DT'),\n",
            " ('nonexecutive', 'JJ'),\n",
            " ('director', 'NN'),\n",
            " ('Nov.', 'NNP'),\n",
            " ('29', 'CD'),\n",
            " ('.', '.')]\n"
          ]
        }
      ],
      "source": [
        "tagged_sentences_treebank_corpus = nltk.corpus.treebank.tagged_sents()\n",
        "pprint.pprint (tagged_sentences_treebank_corpus[0])"
      ]
    },
    {
      "cell_type": "markdown",
      "metadata": {
        "id": "c9_fAp4XfZMB"
      },
      "source": [
        "<h4 align=\"center\"> We will be using Treebank corpus to build our own POS tagger </h4>"
      ]
    },
    {
      "cell_type": "code",
      "execution_count": null,
      "metadata": {
        "id": "UhNsimNCfZMB",
        "outputId": "486d4507-3a37-4222-c5a6-db470c62a254"
      },
      "outputs": [
        {
          "name": "stdout",
          "output_type": "stream",
          "text": [
            "Tagged sentences:  3914\n"
          ]
        }
      ],
      "source": [
        "print (\"Tagged sentences: \", len(tagged_sentences_treebank_corpus))"
      ]
    },
    {
      "cell_type": "code",
      "execution_count": null,
      "metadata": {
        "id": "KJGeYkplfZMC",
        "outputId": "04745be7-39fe-49d1-9838-8c8b9a90c1b5"
      },
      "outputs": [
        {
          "name": "stdout",
          "output_type": "stream",
          "text": [
            "Tagged words: 100676\n"
          ]
        }
      ],
      "source": [
        "print (\"Tagged words:\", len(nltk.corpus.treebank.tagged_words()))"
      ]
    },
    {
      "cell_type": "markdown",
      "metadata": {
        "id": "3yp_-iygfZMC"
      },
      "source": [
        "###  Generate features"
      ]
    },
    {
      "cell_type": "markdown",
      "metadata": {
        "id": "hHiDNyKjfZMC"
      },
      "source": [
        "#### Function for generating features form tagged corpus"
      ]
    },
    {
      "cell_type": "code",
      "execution_count": null,
      "metadata": {
        "id": "_TzcporrfZMD"
      },
      "outputs": [],
      "source": [
        "def features(sentence, index):\n",
        "    # \"sentence: [w1, w2, ...], index: the index of the word\"\n",
        "    return {\n",
        "    'word': sentence[index],\n",
        "    'is_first': index == 0,\n",
        "    'is_last': index == len(sentence) - 1,\n",
        "    'is_capitalized': sentence[index][0].upper() == sentence[index][0],\n",
        "    'is_all_caps': sentence[index].upper() == sentence[index],\n",
        "    'is_all_lower': sentence[index].lower() == sentence[index],\n",
        "    'prefix-1': sentence[index][0],\n",
        "    'prefix-2': sentence[index][:2],\n",
        "    'prefix-3': sentence[index][:3],\n",
        "    'suffix-1': sentence[index][-1],\n",
        "    'suffix-2': sentence[index][-2:],\n",
        "    'suffix-3': sentence[index][-3:],\n",
        "    'prev_word': '' if index == 0 else sentence[index - 1],\n",
        "    'next_word': '' if index == len(sentence) - 1 else sentence[index + 1],\n",
        "    'has_hyphen': '-' in sentence[index],\n",
        "    'is_numeric': sentence[index].isdigit(),\n",
        "    'capitals_inside': sentence[index][1:].lower() != sentence[index][1:]\n",
        "    }"
      ]
    },
    {
      "cell_type": "code",
      "execution_count": null,
      "metadata": {
        "id": "oRaRlhzMfZMD",
        "outputId": "7a019ea0-0270-41fc-b349-721348628ee9"
      },
      "outputs": [
        {
          "name": "stdout",
          "output_type": "stream",
          "text": [
            "{'capitals_inside': False,\n",
            " 'has_hyphen': False,\n",
            " 'is_all_caps': False,\n",
            " 'is_all_lower': False,\n",
            " 'is_capitalized': True,\n",
            " 'is_first': True,\n",
            " 'is_last': False,\n",
            " 'is_numeric': False,\n",
            " 'next_word': 'is',\n",
            " 'prefix-1': 'T',\n",
            " 'prefix-2': 'Th',\n",
            " 'prefix-3': 'Thi',\n",
            " 'prev_word': '',\n",
            " 'suffix-1': 's',\n",
            " 'suffix-2': 'is',\n",
            " 'suffix-3': 'his',\n",
            " 'word': 'This'}\n"
          ]
        }
      ],
      "source": [
        "pprint.pprint(features(['This', 'is', 'a', 'sentence'], 0))"
      ]
    },
    {
      "cell_type": "code",
      "execution_count": null,
      "metadata": {
        "id": "knWPgjBLfZME"
      },
      "outputs": [],
      "source": [
        "def untag(tagged_sentence):\n",
        "    return [w for w, t in tagged_sentence]"
      ]
    },
    {
      "cell_type": "code",
      "execution_count": null,
      "metadata": {
        "id": "gx7u5m2CfZME"
      },
      "outputs": [],
      "source": [
        "def transform_to_dataset(tagged_sentences):\n",
        "    X, y = [], []\n",
        "    for tagged in tagged_sentences:\n",
        "        for index in range(len(tagged)):\n",
        "            X.append(features(untag(tagged), index))\n",
        "            y.append(tagged[index][1])\n",
        "            #pprint.pprint(\" original word: \"+ str(tagged) + \" Word: \"+ str(untag(tagged))+ \"Y: \" + y[index])\n",
        "    return X, y"
      ]
    },
    {
      "cell_type": "code",
      "execution_count": null,
      "metadata": {
        "id": "qlYekMF_fZMF"
      },
      "outputs": [],
      "source": [
        "cutoff = int(.75 * len(tagged_sentences_treebank_corpus))\n",
        "training_sentences = tagged_sentences_treebank_corpus[:cutoff]\n",
        "test_sentences = tagged_sentences_treebank_corpus[cutoff:]"
      ]
    },
    {
      "cell_type": "code",
      "execution_count": null,
      "metadata": {
        "id": "qDI-1lwCfZMF",
        "outputId": "9343487e-72fc-4027-89e6-4b32988022ca"
      },
      "outputs": [
        {
          "name": "stdout",
          "output_type": "stream",
          "text": [
            "2935\n",
            "979\n"
          ]
        }
      ],
      "source": [
        "print (len(training_sentences))\n",
        "print (len(test_sentences))"
      ]
    },
    {
      "cell_type": "code",
      "execution_count": null,
      "metadata": {
        "id": "y4UuCHPJfZMF"
      },
      "outputs": [],
      "source": [
        "X, y = transform_to_dataset(training_sentences)"
      ]
    },
    {
      "cell_type": "code",
      "execution_count": null,
      "metadata": {
        "id": "w4NlSNrWfZMF",
        "outputId": "331efd32-531b-4c10-9131-b3164857edfa"
      },
      "outputs": [
        {
          "name": "stdout",
          "output_type": "stream",
          "text": [
            "75784\n",
            "75784\n"
          ]
        }
      ],
      "source": [
        "print(len(X))\n",
        "print(len(y))"
      ]
    },
    {
      "cell_type": "code",
      "execution_count": null,
      "metadata": {
        "id": "6Ka8L_0LfZMG"
      },
      "outputs": [],
      "source": [
        "clf = Pipeline([\n",
        "    ('vectorizer', DictVectorizer(sparse=False)),\n",
        "    ('classifier', DecisionTreeClassifier(criterion='entropy'))\n",
        "])"
      ]
    },
    {
      "cell_type": "code",
      "execution_count": null,
      "metadata": {
        "id": "-SK9ZQTifZMG",
        "outputId": "237bf7da-b0f5-4719-bfa8-c089052287a7"
      },
      "outputs": [
        {
          "data": {
            "text/plain": [
              "Pipeline(memory=None,\n",
              "     steps=[('vectorizer', DictVectorizer(dtype=<class 'numpy.float64'>, separator='=', sort=True,\n",
              "        sparse=False)), ('classifier', DecisionTreeClassifier(class_weight=None, criterion='entropy', max_depth=None,\n",
              "            max_features=None, max_leaf_nodes=None,\n",
              "            min_impurity_decrease=0.0, min_impurity_split=None,\n",
              "            min_samples_leaf=1, min_samples_split=2,\n",
              "            min_weight_fraction_leaf=0.0, presort=False, random_state=None,\n",
              "            splitter='best'))])"
            ]
          },
          "execution_count": 20,
          "metadata": {},
          "output_type": "execute_result"
        }
      ],
      "source": [
        "# Use only the first 10K samples if you're running it multiple times. It takes a fair bit :)\n",
        "clf.fit(X[:20000],y[:20000])"
      ]
    },
    {
      "cell_type": "code",
      "execution_count": null,
      "metadata": {
        "id": "1dJqvsAufZMI"
      },
      "outputs": [],
      "source": [
        "X_test, y_test = transform_to_dataset(test_sentences)"
      ]
    },
    {
      "cell_type": "code",
      "execution_count": null,
      "metadata": {
        "id": "IiYmPguIfZMI",
        "outputId": "97c6cd35-6cf5-4e58-b131-5c7da75f6ebc"
      },
      "outputs": [
        {
          "name": "stdout",
          "output_type": "stream",
          "text": [
            "Accuracy:91.387%\n"
          ]
        }
      ],
      "source": [
        "print (\"Accuracy:{:.3%}\".format(clf.score(X_test, y_test)))"
      ]
    },
    {
      "cell_type": "code",
      "execution_count": null,
      "metadata": {
        "id": "xO5SyXbLfZMJ"
      },
      "outputs": [],
      "source": [
        "def pos_tag(sentence):\n",
        "    tagged_sentence = []\n",
        "    tags = clf.predict([features(sentence, index) for index in range(len(sentence))])\n",
        "    return zip(sentence, tags)\n"
      ]
    },
    {
      "cell_type": "code",
      "execution_count": null,
      "metadata": {
        "id": "ByjfbPSwfZMJ",
        "outputId": "0cd22aa3-e8d7-47c9-9c47-88fb5d255734"
      },
      "outputs": [
        {
          "name": "stdout",
          "output_type": "stream",
          "text": [
            "This            DT\n",
            "is              VBZ\n",
            "my              PRP$\n",
            "friend          NN\n",
            ",                ,\n",
            "John            NNP\n",
            ".                .\n"
          ]
        }
      ],
      "source": [
        "POS_list = list(pos_tag(word_tokenize('This is my friend, John.')))\n",
        "for t in POS_list:\n",
        "    print(u\"{:<16}{:>2}\".format(str(t[0]),str(t[1])))"
      ]
    },
    {
      "cell_type": "code",
      "execution_count": null,
      "metadata": {
        "id": "QMFotw-1fZMJ",
        "outputId": "c93a9e9d-829d-47b1-bf77-8060a248ab34"
      },
      "outputs": [
        {
          "name": "stdout",
          "output_type": "stream",
          "text": [
            "We              IN\n",
            "will            MD\n",
            "meet            VB\n",
            "at              IN\n",
            "eight           NN\n",
            "o'clock         NN\n",
            "on              IN\n",
            "Thursday        DT\n",
            "morning         NN\n",
            ".                .\n"
          ]
        }
      ],
      "source": [
        "POS_list = list(pos_tag(word_tokenize(\"We will meet at eight o'clock on Thursday morning.\")))\n",
        "for t in POS_list:\n",
        "    print(u\"{:<16}{:>2}\".format(str(t[0]),str(t[1])))"
      ]
    },
    {
      "cell_type": "code",
      "execution_count": null,
      "metadata": {
        "id": "npDxVUyofZMJ",
        "outputId": "1baaafd3-c767-476c-b342-9948628967d1"
      },
      "outputs": [
        {
          "name": "stdout",
          "output_type": "stream",
          "text": [
            "Alexander       IN\n",
            ",                ,\n",
            "the             DT\n",
            "great           NN\n",
            "...              :\n",
            "!               CD\n"
          ]
        }
      ],
      "source": [
        "POS_list = list(pos_tag(word_tokenize('Alexander, the great...!')))\n",
        "for t in POS_list:\n",
        "    print(u\"{:<16}{:>2}\".format(str(t[0]),str(t[1])))"
      ]
    },
    {
      "cell_type": "code",
      "execution_count": null,
      "metadata": {
        "id": "kijGaZiNfZMK",
        "outputId": "016ae435-f71d-453b-844a-e3bae6960c38"
      },
      "outputs": [
        {
          "name": "stdout",
          "output_type": "stream",
          "text": [
            "Alexander       IN\n",
            "the             DT\n",
            "Great           NNP\n",
            ",                ,\n",
            "was             VBD\n",
            "a               DT\n",
            "king            NN\n",
            "of              IN\n",
            "the             DT\n",
            "ancient         DT\n",
            "Greek           NNP\n",
            "kingdom         NN\n",
            "of              IN\n",
            "Macedon         NNP\n",
            ".                .\n"
          ]
        }
      ],
      "source": [
        "POS_list = list(pos_tag(word_tokenize('Alexander the Great, was a king of the ancient Greek kingdom of Macedon.')))\n",
        "for t in POS_list:\n",
        "    print(u\"{:<16}{:>2}\".format(str(t[0]),str(t[1])))\n"
      ]
    }
  ],
  "metadata": {
    "kernelspec": {
      "display_name": "Python 3",
      "language": "python",
      "name": "python3"
    },
    "language_info": {
      "codemirror_mode": {
        "name": "ipython",
        "version": 3
      },
      "file_extension": ".py",
      "mimetype": "text/x-python",
      "name": "python",
      "nbconvert_exporter": "python",
      "pygments_lexer": "ipython3",
      "version": "3.6.4"
    },
    "colab": {
      "provenance": []
    }
  },
  "nbformat": 4,
  "nbformat_minor": 0
}